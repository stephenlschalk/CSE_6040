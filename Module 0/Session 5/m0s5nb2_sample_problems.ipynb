{
  "cells": [
    {
      "cell_type": "markdown",
      "metadata": {
        "id": "view-in-github",
        "colab_type": "text"
      },
      "source": [
        "<a href=\"https://colab.research.google.com/github/stephenlschalk/CSE_6040/blob/main/Module%200/Session%205/m0s5nb2_sample_problems.ipynb\" target=\"_parent\"><img src=\"https://colab.research.google.com/assets/colab-badge.svg\" alt=\"Open In Colab\"/></a>"
      ]
    },
    {
      "cell_type": "markdown",
      "metadata": {
        "id": "Sna2Tdi3QN-u"
      },
      "source": [
        "# Example Dictionary Problems: More Advanced"
      ]
    },
    {
      "cell_type": "code",
      "source": [],
      "metadata": {
        "id": "X8EBS1CT4YtE"
      },
      "execution_count": null,
      "outputs": []
    },
    {
      "cell_type": "markdown",
      "metadata": {
        "id": "KQ1fepzwQN-w"
      },
      "source": [
        "## Introduction"
      ]
    },
    {
      "cell_type": "markdown",
      "metadata": {
        "id": "kfEQAQpWQN-x"
      },
      "source": [
        "- This notebook was part of MT1 in the first iteration of CSE6040, when the MT's were a number of smaller and independent notebooks.\n",
        "- We will be doing Exercise 0, which is inverting a dictionary. What the means is to take the values of the dictionary and make them keys, and to take the keys and make them values, of a new dictionary."
      ]
    },
    {
      "cell_type": "markdown",
      "metadata": {
        "id": "dNY67t38QN-x"
      },
      "source": [
        "## Inverting a Dictionary (Problem 8, Exercise 0)"
      ]
    },
    {
      "cell_type": "markdown",
      "metadata": {
        "id": "3fqIfN2RQN-x"
      },
      "source": [
        "### Problem Overview"
      ]
    },
    {
      "cell_type": "markdown",
      "metadata": {
        "id": "UMogZeanQN-y"
      },
      "source": [
        "This problem has three (3) exercises worth a total of ten (10) points. We will only be solving exercise 0."
      ]
    },
    {
      "cell_type": "markdown",
      "metadata": {
        "id": "ZeHynXshQN-y"
      },
      "source": [
        "**Invert a dictionary.** Suppose a group of student TAs have been asked to monitor the Piazza forums for your CSE6040x course. The assignments are as follows."
      ]
    },
    {
      "cell_type": "code",
      "execution_count": null,
      "metadata": {
        "id": "ZBV63sLiQN-y"
      },
      "outputs": [],
      "source": [
        "assignments = {\"Monday\" : [\"Jeh\", \"Ben\", \"Chinmay\", \"Rachel\"],\n",
        "               \"Tuesday\" : [\"Rachel\", \"Samuel\", \"Evan\", \"Raghav\"],\n",
        "               \"Wednesday\" : [\"Evan\", \"Samuel\", \"Michael\", \"Chinmay\"],\n",
        "               \"Thursday\" : [\"Jeh\", \"Michael\", \"Ben\", \"Evan\"],\n",
        "               \"Friday\" : [\"Rachel\", \"Shishir\", \"Samuel\", \"Ben\"],\n",
        "               \"Saturday\" : [\"Yandi\", \"Michael\", \"Chinmay\", \"Samuel\"],\n",
        "               \"Sunday\" : [\"Evan\", \"Chinmay\", \"Jeh\", \"Rachel\"]\n",
        "               }"
      ]
    },
    {
      "cell_type": "markdown",
      "metadata": {
        "id": "sdTdCwlfQN-z"
      },
      "source": [
        "### Inverting a Dictionary: Student Response"
      ]
    },
    {
      "cell_type": "markdown",
      "metadata": {
        "id": "iuBZyIniQN-z"
      },
      "source": [
        "**Exercise 0** (5 points). Write a function, `invert_dict(d)`, that \"inverts\" a given dictionary `d`. The output should be another dictionary such that the keys are the TA names and their corresponding values should be a list which stores the days assigned to them.\n",
        "\n",
        "For example, one of the keys of the returned dictionary should be `\"Jeh\"` with its corresponding list as `[\"Monday\", \"Thursday\", \"Sunday\"]`."
      ]
    },
    {
      "cell_type": "code",
      "execution_count": null,
      "metadata": {
        "id": "o64z5_ffQN-0"
      },
      "outputs": [],
      "source": [
        "from collections import defaultdict\n",
        "def invert_dict(d):\n",
        "    ###\n",
        "    ### YOUR CODE HERE\n",
        "    return None\n",
        "    ###\n",
        "\n",
        "inv_dict = invert_dict(assignments)"
      ]
    },
    {
      "cell_type": "code",
      "execution_count": null,
      "metadata": {
        "id": "FzV5W1eTQN-0"
      },
      "outputs": [],
      "source": [
        "# Test cell: `test_inverse`\n",
        "\n",
        "import random\n",
        "TA_list = [\"Rachel\", \"Yandi\", \"Ben\", \"Jeh\", \"Evan\", \"Chinmay\", \"Shishir\", \"Raghav\", \"Samuel\", \"Michael\"]\n",
        "\n",
        "# Your solution\n",
        "inv_dict = invert_dict(assignments)\n",
        "\n",
        "random_TA = random.sample(TA_list, 5)\n",
        "for TA in random_TA:\n",
        "    assigned_days = inv_dict[TA]\n",
        "    for days in assigned_days:\n",
        "        assert TA in assignments[days], \"Incorrect inversion for TA {}\".format(TA)\n",
        "\n",
        "print(\"\\n(Passed!)\")"
      ]
    },
    {
      "cell_type": "markdown",
      "metadata": {
        "id": "hmk5jDOqQN-0"
      },
      "source": [
        "### Inverting a Dictionary: Sample Solutions"
      ]
    },
    {
      "cell_type": "markdown",
      "metadata": {
        "id": "ds-myDrAQN-0"
      },
      "source": [
        "Here are two possible solutions for the problem outlined above."
      ]
    },
    {
      "cell_type": "code",
      "execution_count": null,
      "metadata": {
        "id": "_mgDu6afQN-0"
      },
      "outputs": [],
      "source": [
        "from collections import defaultdict\n",
        "def invert_dict(d):\n",
        "    # Larry's solution\n",
        "    TA_dict = defaultdict(list)\n",
        "\n",
        "    for key, val in d.items():\n",
        "        for name in val:\n",
        "            TA_dict[name].append(key)\n",
        "    return dict(TA_dict)\n",
        "\n",
        "inv_dict = invert_dict(assignments)"
      ]
    },
    {
      "cell_type": "code",
      "execution_count": null,
      "metadata": {
        "id": "IOruEcybQN-0"
      },
      "outputs": [],
      "source": [
        "from collections import defaultdict\n",
        "def invert_dict(d):\n",
        "    # Alternative solution\n",
        "    TA_dict = {}\n",
        "    for day in d:\n",
        "        for TA in d[day]:\n",
        "            if TA in TA_dict:\n",
        "                TA_dict[TA].append(day)\n",
        "            else:\n",
        "                TA_dict[TA] = [day]\n",
        "    return TA_dict\n",
        "\n",
        "inv_dict = invert_dict(assignments)"
      ]
    },
    {
      "cell_type": "markdown",
      "metadata": {
        "id": "uVod1g7dQN-1"
      },
      "source": [
        "## Additional Exercises (Problem 8, Exercises 2-3)"
      ]
    },
    {
      "cell_type": "markdown",
      "metadata": {
        "id": "bhhMcAEWQN-1"
      },
      "source": [
        "The following details are included for students who would like additional practice. Some of the contents of this material, such as the `enumerate()` function, will not be covered until later in this bootcamp. However, you are welcome to experiment with the code below if you would like additional opportunities to practice your programming skills."
      ]
    },
    {
      "cell_type": "markdown",
      "metadata": {
        "id": "0EWHsTEGQN-1"
      },
      "source": [
        "### Pilot Routes: Problem Overview"
      ]
    },
    {
      "cell_type": "markdown",
      "metadata": {
        "id": "6i5OVL8HQN-1"
      },
      "source": [
        "**Exercise 2** (2 points): _Tracing the route of a pilot_.\n",
        "\n",
        "Suppose a pilot flies from one city to the next. He makes 7 such trips, which are stored in the list shown in the next cell. The first entry of each tuple denotes the origin, and the second denotes the destination. Also assume that the next flight a pilot makes must originate from the destination of her previous flight. Your task in this exercise is to write a function that finds the route followed by the pilot, given her first port of origin.\n",
        "\n",
        "First, let `segments` be an unordered list of segments that the pilot flew."
      ]
    },
    {
      "cell_type": "code",
      "execution_count": null,
      "metadata": {
        "id": "ayrLpe5fQN-1"
      },
      "outputs": [],
      "source": [
        "segments = [(\"JFK\", \"DEN\"), (\"LAX\", \"ORD\"), (\"DEN\", \"SFO\"), (\"LAS\", \"LAX\"), (\"ORD\", \"ATL\"), (\"ATL\", \"JFK\"), (\"SFO\", \"LAS\")]"
      ]
    },
    {
      "cell_type": "markdown",
      "metadata": {
        "id": "LfnNGywEQN-1"
      },
      "source": [
        "Next, write a function `find_dest(segs, origin)` that returns the next destination of the pilot given one port of origin and an unordered list of flight segments. Example, if `segs == segments` as defined above, then for `'LAX'`, your function should return `'ORD'` because there is the tuple, `(\"LAX\", \"ORD\")`, in `segs`.\n",
        "\n",
        "You may assume that `origin` appears only once in the list of segments, `segs`."
      ]
    },
    {
      "cell_type": "code",
      "execution_count": null,
      "metadata": {
        "id": "elLqZ8DdQN-1"
      },
      "outputs": [],
      "source": [
        "def find_dest(segs, origin):\n",
        "    assert type(origin) is str\n",
        "    assert type(segs) is list\n",
        "    ###\n",
        "    ### YOUR CODE HERE\n",
        "    ###\n",
        "\n",
        "    dest = ''\n",
        "\n",
        "    for route in segs:\n",
        "        print('tick')\n",
        "        if route[0] == origin:\n",
        "            return route[1]\n",
        "    # return [d for o, d in segs if o == origin][0]\n",
        "\n",
        "    return dest\n",
        "    # route_d = dict(segs)\n",
        "    # return route_d[origin]\n",
        "\n",
        "find_dest(segments, \"DEN\")"
      ]
    },
    {
      "cell_type": "code",
      "execution_count": null,
      "metadata": {
        "id": "7fWGYr9_QN-1",
        "outputId": "f8744c65-fa76-4c18-ba5a-3f39f4f21a9e"
      },
      "outputs": [
        {
          "name": "stdout",
          "output_type": "stream",
          "text": [
            "\n",
            "(Passed.)\n"
          ]
        }
      ],
      "source": [
        "# Test flight destination\n",
        "den = find_dest(segments, \"DEN\")\n",
        "assert find_dest(segments, \"DEN\") == \"SFO\", \"Wrong destination for DEN\"\n",
        "assert find_dest(segments, \"LAX\") == \"ORD\", \"Wrong destination for LAX\"\n",
        "assert find_dest(segments, \"ATL\") == \"JFK\", \"Wrong destination for ATL\"\n",
        "assert find_dest(segments, \"JFK\") == \"DEN\", \"Wrong destination for JFK\"\n",
        "print(\"\\n(Passed.)\")"
      ]
    },
    {
      "cell_type": "markdown",
      "metadata": {
        "id": "Ogba5M6DQN-2"
      },
      "source": [
        "**Exercise 3** (3 points). Now write a function `get_route(segs, origin)` that traces the complete itinerary of the pilot, given her first port of origin. Assume that the destination for a flight is the same as the origin for the next flight. The itinerary is completed when he arrives back at the starting port of origin. For example, if the starting port is `\"JFK\"`, your function should return the list: `[\"JFK\", \"DEN\", \"SFO\", \"LAS\", \"LAX\", \"ORD\", \"ATL\"]`."
      ]
    },
    {
      "cell_type": "code",
      "execution_count": null,
      "metadata": {
        "id": "s8c7lZpLQN-2"
      },
      "outputs": [],
      "source": [
        "def get_route(path, origin):\n",
        "    ###\n",
        "    ### YOUR CODE HERE\n",
        "    ###\n",
        "\n",
        "    # path = segs\n",
        "\n",
        "    # route_list = [origin]\n",
        "    # for dest in path:\n",
        "    #     print('tock')\n",
        "    #     route_list.append(find_dest(path,origin))\n",
        "    #     origin = route_list[-1]\n",
        "    # print(route_list)\n",
        "    # route_list.pop()\n",
        "\n",
        "\n",
        "    # return route_list\n",
        "    route_d = dict(path)\n",
        "    start = route_d[origin] #second starting point\n",
        "    route_list = [origin] # pre-populate with first trip\n",
        "    for _ in range(len(path)):\n",
        "      print('tick')\n",
        "    while start != origin: # captures from second trip on\n",
        "      print('tock')\n",
        "      route_list.append(start)\n",
        "      start = route_d[start]\n",
        "    return route_list\n",
        "\n",
        "itinerary = get_route(segments, 'JFK')\n",
        "print(itinerary)"
      ]
    },
    {
      "cell_type": "code",
      "execution_count": null,
      "metadata": {
        "id": "OWSdYQsrQN-2"
      },
      "outputs": [],
      "source": [
        "# Test pilot route\n",
        "ports = [\"JFK\", \"DEN\", \"SFO\", \"LAS\", \"LAX\", \"ORD\", \"ATL\"]\n",
        "starting_port = random.sample(ports, 5)\n",
        "for p in starting_port:\n",
        "    itinerary = get_route(segments, p)\n",
        "    assert itinerary[0] == p, \"incorrect port of origin for the itinerary\"\n",
        "    for i, port in enumerate(itinerary[:-1]):\n",
        "        dest = find_dest(segments, port)\n",
        "        assert dest == itinerary[i+1], \"incorrect itinerary\"\n",
        "\n",
        "print(\"\\n(Passed.)\")"
      ]
    },
    {
      "cell_type": "markdown",
      "metadata": {
        "id": "7aLecsqXQN-2"
      },
      "source": [
        "**Fin!** You've reached the end of this problem. Don't forget to restart the\n",
        "kernel and run the entire notebook from top-to-bottom to make sure you did\n",
        "everything correctly. If that is working, try submitting this problem. (Recall\n",
        "that you *must* submit and pass the autograder to get credit for your work!)"
      ]
    }
  ],
  "metadata": {
    "kernelspec": {
      "display_name": "Python 3",
      "language": "python",
      "name": "python3"
    },
    "language_info": {
      "codemirror_mode": {
        "name": "ipython",
        "version": 3
      },
      "file_extension": ".py",
      "mimetype": "text/x-python",
      "name": "python",
      "nbconvert_exporter": "python",
      "pygments_lexer": "ipython3",
      "version": "3.10.12"
    },
    "colab": {
      "provenance": [],
      "include_colab_link": true
    }
  },
  "nbformat": 4,
  "nbformat_minor": 0
}